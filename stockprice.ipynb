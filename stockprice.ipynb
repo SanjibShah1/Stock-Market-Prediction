{
 "cells": [
  {
   "cell_type": "code",
   "execution_count": null,
   "id": "99611dce",
   "metadata": {},
   "outputs": [],
   "source": [
    "!pip install tensorflow\n",
    "!pip install -c anaconda keras\n",
    "!pip install -U scikit-learn scipy matplotlib"
   ]
  },
  {
   "cell_type": "code",
   "execution_count": 76,
   "id": "438b747b",
   "metadata": {},
   "outputs": [],
   "source": [
    "import math\n",
    "import numpy as np\n",
    "import pandas as pd\n",
    "from sklearn.preprocessing import MinMaxScaler\n",
    "from keras.models import Sequential\n",
    "from keras.layers import Dense, LSTM\n",
    "import matplotlib.pyplot as plt\n",
    "from keras.callbacks import EarlyStopping\n",
    "plt.style.use('fivethirtyeight')"
   ]
  },
  {
   "cell_type": "code",
   "execution_count": 77,
   "id": "5b8db0bd",
   "metadata": {},
   "outputs": [
    {
     "data": {
      "text/html": [
       "<div>\n",
       "<style scoped>\n",
       "    .dataframe tbody tr th:only-of-type {\n",
       "        vertical-align: middle;\n",
       "    }\n",
       "\n",
       "    .dataframe tbody tr th {\n",
       "        vertical-align: top;\n",
       "    }\n",
       "\n",
       "    .dataframe thead th {\n",
       "        text-align: right;\n",
       "    }\n",
       "</style>\n",
       "<table border=\"1\" class=\"dataframe\">\n",
       "  <thead>\n",
       "    <tr style=\"text-align: right;\">\n",
       "      <th></th>\n",
       "      <th>id</th>\n",
       "      <th>date</th>\n",
       "      <th>symbol</th>\n",
       "      <th>open</th>\n",
       "      <th>high</th>\n",
       "      <th>low</th>\n",
       "      <th>close</th>\n",
       "      <th>volume</th>\n",
       "      <th>amount</th>\n",
       "      <th>adj_close</th>\n",
       "    </tr>\n",
       "  </thead>\n",
       "  <tbody>\n",
       "    <tr>\n",
       "      <th>0</th>\n",
       "      <td>424236</td>\n",
       "      <td>2024-03-03</td>\n",
       "      <td>NEPSE</td>\n",
       "      <td>1972.62</td>\n",
       "      <td>1975.39</td>\n",
       "      <td>1946.42</td>\n",
       "      <td>1960.30</td>\n",
       "      <td>5238696.0</td>\n",
       "      <td>2.058594e+09</td>\n",
       "      <td>1958.835611</td>\n",
       "    </tr>\n",
       "    <tr>\n",
       "      <th>1</th>\n",
       "      <td>423910</td>\n",
       "      <td>2024-02-29</td>\n",
       "      <td>NEPSE</td>\n",
       "      <td>2001.02</td>\n",
       "      <td>2007.57</td>\n",
       "      <td>1970.04</td>\n",
       "      <td>1972.09</td>\n",
       "      <td>6866165.0</td>\n",
       "      <td>2.570466e+09</td>\n",
       "      <td>1982.180486</td>\n",
       "    </tr>\n",
       "    <tr>\n",
       "      <th>2</th>\n",
       "      <td>423584</td>\n",
       "      <td>2024-02-28</td>\n",
       "      <td>NEPSE</td>\n",
       "      <td>2002.93</td>\n",
       "      <td>2009.50</td>\n",
       "      <td>1992.46</td>\n",
       "      <td>2000.77</td>\n",
       "      <td>4802051.0</td>\n",
       "      <td>2.025441e+09</td>\n",
       "      <td>2000.932968</td>\n",
       "    </tr>\n",
       "    <tr>\n",
       "      <th>3</th>\n",
       "      <td>423259</td>\n",
       "      <td>2024-02-27</td>\n",
       "      <td>NEPSE</td>\n",
       "      <td>1992.69</td>\n",
       "      <td>2007.85</td>\n",
       "      <td>1980.43</td>\n",
       "      <td>2001.64</td>\n",
       "      <td>4831386.0</td>\n",
       "      <td>1.851601e+09</td>\n",
       "      <td>1994.616059</td>\n",
       "    </tr>\n",
       "    <tr>\n",
       "      <th>4</th>\n",
       "      <td>422934</td>\n",
       "      <td>2024-02-26</td>\n",
       "      <td>NEPSE</td>\n",
       "      <td>1980.89</td>\n",
       "      <td>1997.52</td>\n",
       "      <td>1973.30</td>\n",
       "      <td>1992.30</td>\n",
       "      <td>5308222.0</td>\n",
       "      <td>1.987154e+09</td>\n",
       "      <td>1983.024543</td>\n",
       "    </tr>\n",
       "  </tbody>\n",
       "</table>\n",
       "</div>"
      ],
      "text/plain": [
       "       id        date symbol     open     high      low    close     volume  \\\n",
       "0  424236  2024-03-03  NEPSE  1972.62  1975.39  1946.42  1960.30  5238696.0   \n",
       "1  423910  2024-02-29  NEPSE  2001.02  2007.57  1970.04  1972.09  6866165.0   \n",
       "2  423584  2024-02-28  NEPSE  2002.93  2009.50  1992.46  2000.77  4802051.0   \n",
       "3  423259  2024-02-27  NEPSE  1992.69  2007.85  1980.43  2001.64  4831386.0   \n",
       "4  422934  2024-02-26  NEPSE  1980.89  1997.52  1973.30  1992.30  5308222.0   \n",
       "\n",
       "         amount    adj_close  \n",
       "0  2.058594e+09  1958.835611  \n",
       "1  2.570466e+09  1982.180486  \n",
       "2  2.025441e+09  2000.932968  \n",
       "3  1.851601e+09  1994.616059  \n",
       "4  1.987154e+09  1983.024543  "
      ]
     },
     "execution_count": 77,
     "metadata": {},
     "output_type": "execute_result"
    }
   ],
   "source": [
    "df1 = pd.read_csv(\"nepse.csv\")\n",
    "df1.head(5)"
   ]
  },
  {
   "cell_type": "code",
   "execution_count": 78,
   "id": "8995af90",
   "metadata": {},
   "outputs": [
    {
     "data": {
      "text/html": [
       "<div>\n",
       "<style scoped>\n",
       "    .dataframe tbody tr th:only-of-type {\n",
       "        vertical-align: middle;\n",
       "    }\n",
       "\n",
       "    .dataframe tbody tr th {\n",
       "        vertical-align: top;\n",
       "    }\n",
       "\n",
       "    .dataframe thead th {\n",
       "        text-align: right;\n",
       "    }\n",
       "</style>\n",
       "<table border=\"1\" class=\"dataframe\">\n",
       "  <thead>\n",
       "    <tr style=\"text-align: right;\">\n",
       "      <th></th>\n",
       "      <th>id</th>\n",
       "      <th>date</th>\n",
       "      <th>symbol</th>\n",
       "      <th>open</th>\n",
       "      <th>high</th>\n",
       "      <th>low</th>\n",
       "      <th>Close</th>\n",
       "      <th>volume</th>\n",
       "      <th>amount</th>\n",
       "      <th>adj_close</th>\n",
       "    </tr>\n",
       "  </thead>\n",
       "  <tbody>\n",
       "    <tr>\n",
       "      <th>0</th>\n",
       "      <td>424236</td>\n",
       "      <td>2024-03-03</td>\n",
       "      <td>NEPSE</td>\n",
       "      <td>1972.62</td>\n",
       "      <td>1975.39</td>\n",
       "      <td>1946.42</td>\n",
       "      <td>1960.30</td>\n",
       "      <td>5238696.0</td>\n",
       "      <td>2.058594e+09</td>\n",
       "      <td>1958.835611</td>\n",
       "    </tr>\n",
       "    <tr>\n",
       "      <th>1</th>\n",
       "      <td>423910</td>\n",
       "      <td>2024-02-29</td>\n",
       "      <td>NEPSE</td>\n",
       "      <td>2001.02</td>\n",
       "      <td>2007.57</td>\n",
       "      <td>1970.04</td>\n",
       "      <td>1972.09</td>\n",
       "      <td>6866165.0</td>\n",
       "      <td>2.570466e+09</td>\n",
       "      <td>1982.180486</td>\n",
       "    </tr>\n",
       "    <tr>\n",
       "      <th>2</th>\n",
       "      <td>423584</td>\n",
       "      <td>2024-02-28</td>\n",
       "      <td>NEPSE</td>\n",
       "      <td>2002.93</td>\n",
       "      <td>2009.50</td>\n",
       "      <td>1992.46</td>\n",
       "      <td>2000.77</td>\n",
       "      <td>4802051.0</td>\n",
       "      <td>2.025441e+09</td>\n",
       "      <td>2000.932968</td>\n",
       "    </tr>\n",
       "    <tr>\n",
       "      <th>3</th>\n",
       "      <td>423259</td>\n",
       "      <td>2024-02-27</td>\n",
       "      <td>NEPSE</td>\n",
       "      <td>1992.69</td>\n",
       "      <td>2007.85</td>\n",
       "      <td>1980.43</td>\n",
       "      <td>2001.64</td>\n",
       "      <td>4831386.0</td>\n",
       "      <td>1.851601e+09</td>\n",
       "      <td>1994.616059</td>\n",
       "    </tr>\n",
       "    <tr>\n",
       "      <th>4</th>\n",
       "      <td>422934</td>\n",
       "      <td>2024-02-26</td>\n",
       "      <td>NEPSE</td>\n",
       "      <td>1980.89</td>\n",
       "      <td>1997.52</td>\n",
       "      <td>1973.30</td>\n",
       "      <td>1992.30</td>\n",
       "      <td>5308222.0</td>\n",
       "      <td>1.987154e+09</td>\n",
       "      <td>1983.024543</td>\n",
       "    </tr>\n",
       "  </tbody>\n",
       "</table>\n",
       "</div>"
      ],
      "text/plain": [
       "       id        date symbol     open     high      low    Close     volume  \\\n",
       "0  424236  2024-03-03  NEPSE  1972.62  1975.39  1946.42  1960.30  5238696.0   \n",
       "1  423910  2024-02-29  NEPSE  2001.02  2007.57  1970.04  1972.09  6866165.0   \n",
       "2  423584  2024-02-28  NEPSE  2002.93  2009.50  1992.46  2000.77  4802051.0   \n",
       "3  423259  2024-02-27  NEPSE  1992.69  2007.85  1980.43  2001.64  4831386.0   \n",
       "4  422934  2024-02-26  NEPSE  1980.89  1997.52  1973.30  1992.30  5308222.0   \n",
       "\n",
       "         amount    adj_close  \n",
       "0  2.058594e+09  1958.835611  \n",
       "1  2.570466e+09  1982.180486  \n",
       "2  2.025441e+09  2000.932968  \n",
       "3  1.851601e+09  1994.616059  \n",
       "4  1.987154e+09  1983.024543  "
      ]
     },
     "execution_count": 78,
     "metadata": {},
     "output_type": "execute_result"
    }
   ],
   "source": [
    "# Check if the column \"close price\" exists in the DataFrame (case-insensitive)\n",
    "if any(col.lower() == \"close\" for col in df1.columns):\n",
    "    # Rename the column \"close price\" to \"Close\" (case-insensitive)\n",
    "    df1.rename(columns=lambda x: \"Close\" if x.lower() == \"close\" else x, inplace=True)\n",
    "df1.head(5)"
   ]
  },
  {
   "cell_type": "code",
   "execution_count": 79,
   "id": "9a53598d",
   "metadata": {},
   "outputs": [
    {
     "data": {
      "text/html": [
       "<div>\n",
       "<style scoped>\n",
       "    .dataframe tbody tr th:only-of-type {\n",
       "        vertical-align: middle;\n",
       "    }\n",
       "\n",
       "    .dataframe tbody tr th {\n",
       "        vertical-align: top;\n",
       "    }\n",
       "\n",
       "    .dataframe thead th {\n",
       "        text-align: right;\n",
       "    }\n",
       "</style>\n",
       "<table border=\"1\" class=\"dataframe\">\n",
       "  <thead>\n",
       "    <tr style=\"text-align: right;\">\n",
       "      <th></th>\n",
       "      <th>id</th>\n",
       "      <th>date</th>\n",
       "      <th>symbol</th>\n",
       "      <th>open</th>\n",
       "      <th>high</th>\n",
       "      <th>low</th>\n",
       "      <th>Close</th>\n",
       "      <th>volume</th>\n",
       "      <th>amount</th>\n",
       "      <th>adj_close</th>\n",
       "    </tr>\n",
       "  </thead>\n",
       "  <tbody>\n",
       "    <tr>\n",
       "      <th>5082</th>\n",
       "      <td>1</td>\n",
       "      <td>2001-09-11</td>\n",
       "      <td>NEPSE</td>\n",
       "      <td>274.34</td>\n",
       "      <td>274.34</td>\n",
       "      <td>274.34</td>\n",
       "      <td>274.34</td>\n",
       "      <td>0.0</td>\n",
       "      <td>0.0</td>\n",
       "      <td>NaN</td>\n",
       "    </tr>\n",
       "    <tr>\n",
       "      <th>5081</th>\n",
       "      <td>2</td>\n",
       "      <td>2001-09-12</td>\n",
       "      <td>NEPSE</td>\n",
       "      <td>269.17</td>\n",
       "      <td>269.17</td>\n",
       "      <td>269.17</td>\n",
       "      <td>269.17</td>\n",
       "      <td>0.0</td>\n",
       "      <td>0.0</td>\n",
       "      <td>NaN</td>\n",
       "    </tr>\n",
       "    <tr>\n",
       "      <th>5080</th>\n",
       "      <td>3</td>\n",
       "      <td>2001-09-13</td>\n",
       "      <td>NEPSE</td>\n",
       "      <td>261.37</td>\n",
       "      <td>261.37</td>\n",
       "      <td>261.37</td>\n",
       "      <td>261.37</td>\n",
       "      <td>0.0</td>\n",
       "      <td>0.0</td>\n",
       "      <td>NaN</td>\n",
       "    </tr>\n",
       "    <tr>\n",
       "      <th>5079</th>\n",
       "      <td>4</td>\n",
       "      <td>2001-09-14</td>\n",
       "      <td>NEPSE</td>\n",
       "      <td>265.22</td>\n",
       "      <td>265.22</td>\n",
       "      <td>265.22</td>\n",
       "      <td>265.22</td>\n",
       "      <td>0.0</td>\n",
       "      <td>0.0</td>\n",
       "      <td>NaN</td>\n",
       "    </tr>\n",
       "    <tr>\n",
       "      <th>5078</th>\n",
       "      <td>5</td>\n",
       "      <td>2001-09-17</td>\n",
       "      <td>NEPSE</td>\n",
       "      <td>273.01</td>\n",
       "      <td>273.01</td>\n",
       "      <td>273.01</td>\n",
       "      <td>273.01</td>\n",
       "      <td>0.0</td>\n",
       "      <td>0.0</td>\n",
       "      <td>NaN</td>\n",
       "    </tr>\n",
       "  </tbody>\n",
       "</table>\n",
       "</div>"
      ],
      "text/plain": [
       "      id        date symbol    open    high     low   Close  volume  amount  \\\n",
       "5082   1  2001-09-11  NEPSE  274.34  274.34  274.34  274.34     0.0     0.0   \n",
       "5081   2  2001-09-12  NEPSE  269.17  269.17  269.17  269.17     0.0     0.0   \n",
       "5080   3  2001-09-13  NEPSE  261.37  261.37  261.37  261.37     0.0     0.0   \n",
       "5079   4  2001-09-14  NEPSE  265.22  265.22  265.22  265.22     0.0     0.0   \n",
       "5078   5  2001-09-17  NEPSE  273.01  273.01  273.01  273.01     0.0     0.0   \n",
       "\n",
       "      adj_close  \n",
       "5082        NaN  \n",
       "5081        NaN  \n",
       "5080        NaN  \n",
       "5079        NaN  \n",
       "5078        NaN  "
      ]
     },
     "execution_count": 79,
     "metadata": {},
     "output_type": "execute_result"
    }
   ],
   "source": [
    "df = df1[::-1]\n",
    "df.head(5)"
   ]
  },
  {
   "cell_type": "code",
   "execution_count": 80,
   "id": "44c7867d",
   "metadata": {},
   "outputs": [
    {
     "data": {
      "text/html": [
       "<div>\n",
       "<style scoped>\n",
       "    .dataframe tbody tr th:only-of-type {\n",
       "        vertical-align: middle;\n",
       "    }\n",
       "\n",
       "    .dataframe tbody tr th {\n",
       "        vertical-align: top;\n",
       "    }\n",
       "\n",
       "    .dataframe thead th {\n",
       "        text-align: right;\n",
       "    }\n",
       "</style>\n",
       "<table border=\"1\" class=\"dataframe\">\n",
       "  <thead>\n",
       "    <tr style=\"text-align: right;\">\n",
       "      <th></th>\n",
       "      <th>id</th>\n",
       "      <th>date</th>\n",
       "      <th>symbol</th>\n",
       "      <th>open</th>\n",
       "      <th>high</th>\n",
       "      <th>low</th>\n",
       "      <th>Close</th>\n",
       "      <th>volume</th>\n",
       "      <th>amount</th>\n",
       "      <th>adj_close</th>\n",
       "    </tr>\n",
       "  </thead>\n",
       "  <tbody>\n",
       "    <tr>\n",
       "      <th>4</th>\n",
       "      <td>422934</td>\n",
       "      <td>2024-02-26</td>\n",
       "      <td>NEPSE</td>\n",
       "      <td>1980.89</td>\n",
       "      <td>1997.52</td>\n",
       "      <td>1973.30</td>\n",
       "      <td>1992.30</td>\n",
       "      <td>5308222.0</td>\n",
       "      <td>1.987154e+09</td>\n",
       "      <td>1983.024543</td>\n",
       "    </tr>\n",
       "    <tr>\n",
       "      <th>3</th>\n",
       "      <td>423259</td>\n",
       "      <td>2024-02-27</td>\n",
       "      <td>NEPSE</td>\n",
       "      <td>1992.69</td>\n",
       "      <td>2007.85</td>\n",
       "      <td>1980.43</td>\n",
       "      <td>2001.64</td>\n",
       "      <td>4831386.0</td>\n",
       "      <td>1.851601e+09</td>\n",
       "      <td>1994.616059</td>\n",
       "    </tr>\n",
       "    <tr>\n",
       "      <th>2</th>\n",
       "      <td>423584</td>\n",
       "      <td>2024-02-28</td>\n",
       "      <td>NEPSE</td>\n",
       "      <td>2002.93</td>\n",
       "      <td>2009.50</td>\n",
       "      <td>1992.46</td>\n",
       "      <td>2000.77</td>\n",
       "      <td>4802051.0</td>\n",
       "      <td>2.025441e+09</td>\n",
       "      <td>2000.932968</td>\n",
       "    </tr>\n",
       "    <tr>\n",
       "      <th>1</th>\n",
       "      <td>423910</td>\n",
       "      <td>2024-02-29</td>\n",
       "      <td>NEPSE</td>\n",
       "      <td>2001.02</td>\n",
       "      <td>2007.57</td>\n",
       "      <td>1970.04</td>\n",
       "      <td>1972.09</td>\n",
       "      <td>6866165.0</td>\n",
       "      <td>2.570466e+09</td>\n",
       "      <td>1982.180486</td>\n",
       "    </tr>\n",
       "    <tr>\n",
       "      <th>0</th>\n",
       "      <td>424236</td>\n",
       "      <td>2024-03-03</td>\n",
       "      <td>NEPSE</td>\n",
       "      <td>1972.62</td>\n",
       "      <td>1975.39</td>\n",
       "      <td>1946.42</td>\n",
       "      <td>1960.30</td>\n",
       "      <td>5238696.0</td>\n",
       "      <td>2.058594e+09</td>\n",
       "      <td>1958.835611</td>\n",
       "    </tr>\n",
       "  </tbody>\n",
       "</table>\n",
       "</div>"
      ],
      "text/plain": [
       "       id        date symbol     open     high      low    Close     volume  \\\n",
       "4  422934  2024-02-26  NEPSE  1980.89  1997.52  1973.30  1992.30  5308222.0   \n",
       "3  423259  2024-02-27  NEPSE  1992.69  2007.85  1980.43  2001.64  4831386.0   \n",
       "2  423584  2024-02-28  NEPSE  2002.93  2009.50  1992.46  2000.77  4802051.0   \n",
       "1  423910  2024-02-29  NEPSE  2001.02  2007.57  1970.04  1972.09  6866165.0   \n",
       "0  424236  2024-03-03  NEPSE  1972.62  1975.39  1946.42  1960.30  5238696.0   \n",
       "\n",
       "         amount    adj_close  \n",
       "4  1.987154e+09  1983.024543  \n",
       "3  1.851601e+09  1994.616059  \n",
       "2  2.025441e+09  2000.932968  \n",
       "1  2.570466e+09  1982.180486  \n",
       "0  2.058594e+09  1958.835611  "
      ]
     },
     "execution_count": 80,
     "metadata": {},
     "output_type": "execute_result"
    }
   ],
   "source": [
    "df.tail(5)"
   ]
  },
  {
   "cell_type": "code",
   "execution_count": 81,
   "id": "255d5825",
   "metadata": {},
   "outputs": [
    {
     "data": {
      "text/html": [
       "<div>\n",
       "<style scoped>\n",
       "    .dataframe tbody tr th:only-of-type {\n",
       "        vertical-align: middle;\n",
       "    }\n",
       "\n",
       "    .dataframe tbody tr th {\n",
       "        vertical-align: top;\n",
       "    }\n",
       "\n",
       "    .dataframe thead th {\n",
       "        text-align: right;\n",
       "    }\n",
       "</style>\n",
       "<table border=\"1\" class=\"dataframe\">\n",
       "  <thead>\n",
       "    <tr style=\"text-align: right;\">\n",
       "      <th></th>\n",
       "      <th>id</th>\n",
       "      <th>date</th>\n",
       "      <th>symbol</th>\n",
       "      <th>open</th>\n",
       "      <th>high</th>\n",
       "      <th>low</th>\n",
       "      <th>Close</th>\n",
       "      <th>volume</th>\n",
       "      <th>amount</th>\n",
       "      <th>adj_close</th>\n",
       "    </tr>\n",
       "  </thead>\n",
       "  <tbody>\n",
       "    <tr>\n",
       "      <th>5082</th>\n",
       "      <td>1</td>\n",
       "      <td>2001-09-11</td>\n",
       "      <td>NEPSE</td>\n",
       "      <td>274.34</td>\n",
       "      <td>274.34</td>\n",
       "      <td>274.34</td>\n",
       "      <td>274.34</td>\n",
       "      <td>0.0</td>\n",
       "      <td>0.000000e+00</td>\n",
       "      <td>NaN</td>\n",
       "    </tr>\n",
       "    <tr>\n",
       "      <th>5081</th>\n",
       "      <td>2</td>\n",
       "      <td>2001-09-12</td>\n",
       "      <td>NEPSE</td>\n",
       "      <td>269.17</td>\n",
       "      <td>269.17</td>\n",
       "      <td>269.17</td>\n",
       "      <td>269.17</td>\n",
       "      <td>0.0</td>\n",
       "      <td>0.000000e+00</td>\n",
       "      <td>NaN</td>\n",
       "    </tr>\n",
       "    <tr>\n",
       "      <th>5080</th>\n",
       "      <td>3</td>\n",
       "      <td>2001-09-13</td>\n",
       "      <td>NEPSE</td>\n",
       "      <td>261.37</td>\n",
       "      <td>261.37</td>\n",
       "      <td>261.37</td>\n",
       "      <td>261.37</td>\n",
       "      <td>0.0</td>\n",
       "      <td>0.000000e+00</td>\n",
       "      <td>NaN</td>\n",
       "    </tr>\n",
       "    <tr>\n",
       "      <th>5079</th>\n",
       "      <td>4</td>\n",
       "      <td>2001-09-14</td>\n",
       "      <td>NEPSE</td>\n",
       "      <td>265.22</td>\n",
       "      <td>265.22</td>\n",
       "      <td>265.22</td>\n",
       "      <td>265.22</td>\n",
       "      <td>0.0</td>\n",
       "      <td>0.000000e+00</td>\n",
       "      <td>NaN</td>\n",
       "    </tr>\n",
       "    <tr>\n",
       "      <th>5078</th>\n",
       "      <td>5</td>\n",
       "      <td>2001-09-17</td>\n",
       "      <td>NEPSE</td>\n",
       "      <td>273.01</td>\n",
       "      <td>273.01</td>\n",
       "      <td>273.01</td>\n",
       "      <td>273.01</td>\n",
       "      <td>0.0</td>\n",
       "      <td>0.000000e+00</td>\n",
       "      <td>NaN</td>\n",
       "    </tr>\n",
       "    <tr>\n",
       "      <th>...</th>\n",
       "      <td>...</td>\n",
       "      <td>...</td>\n",
       "      <td>...</td>\n",
       "      <td>...</td>\n",
       "      <td>...</td>\n",
       "      <td>...</td>\n",
       "      <td>...</td>\n",
       "      <td>...</td>\n",
       "      <td>...</td>\n",
       "      <td>...</td>\n",
       "    </tr>\n",
       "    <tr>\n",
       "      <th>4</th>\n",
       "      <td>422934</td>\n",
       "      <td>2024-02-26</td>\n",
       "      <td>NEPSE</td>\n",
       "      <td>1980.89</td>\n",
       "      <td>1997.52</td>\n",
       "      <td>1973.30</td>\n",
       "      <td>1992.30</td>\n",
       "      <td>5308222.0</td>\n",
       "      <td>1.987154e+09</td>\n",
       "      <td>1983.024543</td>\n",
       "    </tr>\n",
       "    <tr>\n",
       "      <th>3</th>\n",
       "      <td>423259</td>\n",
       "      <td>2024-02-27</td>\n",
       "      <td>NEPSE</td>\n",
       "      <td>1992.69</td>\n",
       "      <td>2007.85</td>\n",
       "      <td>1980.43</td>\n",
       "      <td>2001.64</td>\n",
       "      <td>4831386.0</td>\n",
       "      <td>1.851601e+09</td>\n",
       "      <td>1994.616059</td>\n",
       "    </tr>\n",
       "    <tr>\n",
       "      <th>2</th>\n",
       "      <td>423584</td>\n",
       "      <td>2024-02-28</td>\n",
       "      <td>NEPSE</td>\n",
       "      <td>2002.93</td>\n",
       "      <td>2009.50</td>\n",
       "      <td>1992.46</td>\n",
       "      <td>2000.77</td>\n",
       "      <td>4802051.0</td>\n",
       "      <td>2.025441e+09</td>\n",
       "      <td>2000.932968</td>\n",
       "    </tr>\n",
       "    <tr>\n",
       "      <th>1</th>\n",
       "      <td>423910</td>\n",
       "      <td>2024-02-29</td>\n",
       "      <td>NEPSE</td>\n",
       "      <td>2001.02</td>\n",
       "      <td>2007.57</td>\n",
       "      <td>1970.04</td>\n",
       "      <td>1972.09</td>\n",
       "      <td>6866165.0</td>\n",
       "      <td>2.570466e+09</td>\n",
       "      <td>1982.180486</td>\n",
       "    </tr>\n",
       "    <tr>\n",
       "      <th>0</th>\n",
       "      <td>424236</td>\n",
       "      <td>2024-03-03</td>\n",
       "      <td>NEPSE</td>\n",
       "      <td>1972.62</td>\n",
       "      <td>1975.39</td>\n",
       "      <td>1946.42</td>\n",
       "      <td>1960.30</td>\n",
       "      <td>5238696.0</td>\n",
       "      <td>2.058594e+09</td>\n",
       "      <td>1958.835611</td>\n",
       "    </tr>\n",
       "  </tbody>\n",
       "</table>\n",
       "<p>5083 rows × 10 columns</p>\n",
       "</div>"
      ],
      "text/plain": [
       "          id        date symbol     open     high      low    Close  \\\n",
       "5082       1  2001-09-11  NEPSE   274.34   274.34   274.34   274.34   \n",
       "5081       2  2001-09-12  NEPSE   269.17   269.17   269.17   269.17   \n",
       "5080       3  2001-09-13  NEPSE   261.37   261.37   261.37   261.37   \n",
       "5079       4  2001-09-14  NEPSE   265.22   265.22   265.22   265.22   \n",
       "5078       5  2001-09-17  NEPSE   273.01   273.01   273.01   273.01   \n",
       "...      ...         ...    ...      ...      ...      ...      ...   \n",
       "4     422934  2024-02-26  NEPSE  1980.89  1997.52  1973.30  1992.30   \n",
       "3     423259  2024-02-27  NEPSE  1992.69  2007.85  1980.43  2001.64   \n",
       "2     423584  2024-02-28  NEPSE  2002.93  2009.50  1992.46  2000.77   \n",
       "1     423910  2024-02-29  NEPSE  2001.02  2007.57  1970.04  1972.09   \n",
       "0     424236  2024-03-03  NEPSE  1972.62  1975.39  1946.42  1960.30   \n",
       "\n",
       "         volume        amount    adj_close  \n",
       "5082        0.0  0.000000e+00          NaN  \n",
       "5081        0.0  0.000000e+00          NaN  \n",
       "5080        0.0  0.000000e+00          NaN  \n",
       "5079        0.0  0.000000e+00          NaN  \n",
       "5078        0.0  0.000000e+00          NaN  \n",
       "...         ...           ...          ...  \n",
       "4     5308222.0  1.987154e+09  1983.024543  \n",
       "3     4831386.0  1.851601e+09  1994.616059  \n",
       "2     4802051.0  2.025441e+09  2000.932968  \n",
       "1     6866165.0  2.570466e+09  1982.180486  \n",
       "0     5238696.0  2.058594e+09  1958.835611  \n",
       "\n",
       "[5083 rows x 10 columns]"
      ]
     },
     "execution_count": 81,
     "metadata": {},
     "output_type": "execute_result"
    }
   ],
   "source": [
    "df"
   ]
  },
  {
   "cell_type": "code",
   "execution_count": 82,
   "id": "fb405dde",
   "metadata": {},
   "outputs": [
    {
     "data": {
      "text/html": [
       "<div>\n",
       "<style scoped>\n",
       "    .dataframe tbody tr th:only-of-type {\n",
       "        vertical-align: middle;\n",
       "    }\n",
       "\n",
       "    .dataframe tbody tr th {\n",
       "        vertical-align: top;\n",
       "    }\n",
       "\n",
       "    .dataframe thead th {\n",
       "        text-align: right;\n",
       "    }\n",
       "</style>\n",
       "<table border=\"1\" class=\"dataframe\">\n",
       "  <thead>\n",
       "    <tr style=\"text-align: right;\">\n",
       "      <th></th>\n",
       "      <th>id</th>\n",
       "      <th>open</th>\n",
       "      <th>high</th>\n",
       "      <th>low</th>\n",
       "      <th>Close</th>\n",
       "      <th>volume</th>\n",
       "      <th>amount</th>\n",
       "      <th>adj_close</th>\n",
       "    </tr>\n",
       "  </thead>\n",
       "  <tbody>\n",
       "    <tr>\n",
       "      <th>count</th>\n",
       "      <td>5083.000000</td>\n",
       "      <td>5083.000000</td>\n",
       "      <td>5083.000000</td>\n",
       "      <td>5083.000000</td>\n",
       "      <td>5083.000000</td>\n",
       "      <td>5.083000e+03</td>\n",
       "      <td>5.083000e+03</td>\n",
       "      <td>671.000000</td>\n",
       "    </tr>\n",
       "    <tr>\n",
       "      <th>mean</th>\n",
       "      <td>82958.278969</td>\n",
       "      <td>972.252786</td>\n",
       "      <td>977.098369</td>\n",
       "      <td>966.548165</td>\n",
       "      <td>971.482573</td>\n",
       "      <td>6.248414e+08</td>\n",
       "      <td>8.009361e+08</td>\n",
       "      <td>2268.830126</td>\n",
       "    </tr>\n",
       "    <tr>\n",
       "      <th>std</th>\n",
       "      <td>115008.824100</td>\n",
       "      <td>715.958195</td>\n",
       "      <td>722.726606</td>\n",
       "      <td>707.268646</td>\n",
       "      <td>714.387537</td>\n",
       "      <td>2.028729e+09</td>\n",
       "      <td>2.106684e+09</td>\n",
       "      <td>389.112158</td>\n",
       "    </tr>\n",
       "    <tr>\n",
       "      <th>min</th>\n",
       "      <td>1.000000</td>\n",
       "      <td>186.220000</td>\n",
       "      <td>186.220000</td>\n",
       "      <td>186.220000</td>\n",
       "      <td>186.220000</td>\n",
       "      <td>0.000000e+00</td>\n",
       "      <td>0.000000e+00</td>\n",
       "      <td>1814.710083</td>\n",
       "    </tr>\n",
       "    <tr>\n",
       "      <th>25%</th>\n",
       "      <td>1271.500000</td>\n",
       "      <td>372.005000</td>\n",
       "      <td>372.005000</td>\n",
       "      <td>372.005000</td>\n",
       "      <td>372.005000</td>\n",
       "      <td>0.000000e+00</td>\n",
       "      <td>0.000000e+00</td>\n",
       "      <td>1957.526539</td>\n",
       "    </tr>\n",
       "    <tr>\n",
       "      <th>50%</th>\n",
       "      <td>15321.000000</td>\n",
       "      <td>773.540000</td>\n",
       "      <td>773.540000</td>\n",
       "      <td>773.540000</td>\n",
       "      <td>773.540000</td>\n",
       "      <td>0.000000e+00</td>\n",
       "      <td>0.000000e+00</td>\n",
       "      <td>2091.134884</td>\n",
       "    </tr>\n",
       "    <tr>\n",
       "      <th>75%</th>\n",
       "      <td>139322.500000</td>\n",
       "      <td>1389.385000</td>\n",
       "      <td>1398.560000</td>\n",
       "      <td>1381.880000</td>\n",
       "      <td>1389.385000</td>\n",
       "      <td>2.134675e+08</td>\n",
       "      <td>5.129515e+08</td>\n",
       "      <td>2640.119010</td>\n",
       "    </tr>\n",
       "    <tr>\n",
       "      <th>max</th>\n",
       "      <td>424236.000000</td>\n",
       "      <td>3208.530800</td>\n",
       "      <td>3227.110000</td>\n",
       "      <td>3178.250000</td>\n",
       "      <td>3198.190000</td>\n",
       "      <td>2.164760e+10</td>\n",
       "      <td>2.164760e+10</td>\n",
       "      <td>3203.748026</td>\n",
       "    </tr>\n",
       "  </tbody>\n",
       "</table>\n",
       "</div>"
      ],
      "text/plain": [
       "                  id         open         high          low        Close  \\\n",
       "count    5083.000000  5083.000000  5083.000000  5083.000000  5083.000000   \n",
       "mean    82958.278969   972.252786   977.098369   966.548165   971.482573   \n",
       "std    115008.824100   715.958195   722.726606   707.268646   714.387537   \n",
       "min         1.000000   186.220000   186.220000   186.220000   186.220000   \n",
       "25%      1271.500000   372.005000   372.005000   372.005000   372.005000   \n",
       "50%     15321.000000   773.540000   773.540000   773.540000   773.540000   \n",
       "75%    139322.500000  1389.385000  1398.560000  1381.880000  1389.385000   \n",
       "max    424236.000000  3208.530800  3227.110000  3178.250000  3198.190000   \n",
       "\n",
       "             volume        amount    adj_close  \n",
       "count  5.083000e+03  5.083000e+03   671.000000  \n",
       "mean   6.248414e+08  8.009361e+08  2268.830126  \n",
       "std    2.028729e+09  2.106684e+09   389.112158  \n",
       "min    0.000000e+00  0.000000e+00  1814.710083  \n",
       "25%    0.000000e+00  0.000000e+00  1957.526539  \n",
       "50%    0.000000e+00  0.000000e+00  2091.134884  \n",
       "75%    2.134675e+08  5.129515e+08  2640.119010  \n",
       "max    2.164760e+10  2.164760e+10  3203.748026  "
      ]
     },
     "execution_count": 82,
     "metadata": {},
     "output_type": "execute_result"
    }
   ],
   "source": [
    "df.describe()"
   ]
  },
  {
   "cell_type": "code",
   "execution_count": 83,
   "id": "d817b6f2",
   "metadata": {},
   "outputs": [
    {
     "data": {
      "text/plain": [
       "971.482572634271"
      ]
     },
     "execution_count": 83,
     "metadata": {},
     "output_type": "execute_result"
    }
   ],
   "source": [
    "mean = df['Close'].mean()\n",
    "mean"
   ]
  },
  {
   "cell_type": "code",
   "execution_count": 84,
   "id": "14a5636d",
   "metadata": {},
   "outputs": [
    {
     "data": {
      "text/plain": [
       "(5083, 10)"
      ]
     },
     "execution_count": 84,
     "metadata": {},
     "output_type": "execute_result"
    }
   ],
   "source": [
    "df.shape"
   ]
  },
  {
   "cell_type": "code",
   "execution_count": 85,
   "id": "146b7bc9",
   "metadata": {},
   "outputs": [
    {
     "data": {
      "text/plain": [
       "True"
      ]
     },
     "execution_count": 85,
     "metadata": {},
     "output_type": "execute_result"
    }
   ],
   "source": [
    "df.isnull().values.any()"
   ]
  },
  {
   "cell_type": "code",
   "execution_count": 86,
   "id": "68c414fe",
   "metadata": {},
   "outputs": [
    {
     "data": {
      "text/plain": [
       "0"
      ]
     },
     "execution_count": 86,
     "metadata": {},
     "output_type": "execute_result"
    }
   ],
   "source": [
    "sum(df.duplicated())"
   ]
  },
  {
   "cell_type": "code",
   "execution_count": 87,
   "id": "40390cc9",
   "metadata": {},
   "outputs": [
    {
     "data": {
      "text/html": [
       "<div>\n",
       "<style scoped>\n",
       "    .dataframe tbody tr th:only-of-type {\n",
       "        vertical-align: middle;\n",
       "    }\n",
       "\n",
       "    .dataframe tbody tr th {\n",
       "        vertical-align: top;\n",
       "    }\n",
       "\n",
       "    .dataframe thead th {\n",
       "        text-align: right;\n",
       "    }\n",
       "</style>\n",
       "<table border=\"1\" class=\"dataframe\">\n",
       "  <thead>\n",
       "    <tr style=\"text-align: right;\">\n",
       "      <th></th>\n",
       "      <th>index</th>\n",
       "      <th>id</th>\n",
       "      <th>date</th>\n",
       "      <th>symbol</th>\n",
       "      <th>open</th>\n",
       "      <th>high</th>\n",
       "      <th>low</th>\n",
       "      <th>Close</th>\n",
       "      <th>volume</th>\n",
       "      <th>amount</th>\n",
       "      <th>adj_close</th>\n",
       "    </tr>\n",
       "  </thead>\n",
       "  <tbody>\n",
       "    <tr>\n",
       "      <th>0</th>\n",
       "      <td>5082</td>\n",
       "      <td>1</td>\n",
       "      <td>2001-09-11</td>\n",
       "      <td>NEPSE</td>\n",
       "      <td>274.34</td>\n",
       "      <td>274.34</td>\n",
       "      <td>274.34</td>\n",
       "      <td>274.34</td>\n",
       "      <td>0.0</td>\n",
       "      <td>0.0</td>\n",
       "      <td>NaN</td>\n",
       "    </tr>\n",
       "    <tr>\n",
       "      <th>1</th>\n",
       "      <td>5081</td>\n",
       "      <td>2</td>\n",
       "      <td>2001-09-12</td>\n",
       "      <td>NEPSE</td>\n",
       "      <td>269.17</td>\n",
       "      <td>269.17</td>\n",
       "      <td>269.17</td>\n",
       "      <td>269.17</td>\n",
       "      <td>0.0</td>\n",
       "      <td>0.0</td>\n",
       "      <td>NaN</td>\n",
       "    </tr>\n",
       "    <tr>\n",
       "      <th>2</th>\n",
       "      <td>5080</td>\n",
       "      <td>3</td>\n",
       "      <td>2001-09-13</td>\n",
       "      <td>NEPSE</td>\n",
       "      <td>261.37</td>\n",
       "      <td>261.37</td>\n",
       "      <td>261.37</td>\n",
       "      <td>261.37</td>\n",
       "      <td>0.0</td>\n",
       "      <td>0.0</td>\n",
       "      <td>NaN</td>\n",
       "    </tr>\n",
       "    <tr>\n",
       "      <th>3</th>\n",
       "      <td>5079</td>\n",
       "      <td>4</td>\n",
       "      <td>2001-09-14</td>\n",
       "      <td>NEPSE</td>\n",
       "      <td>265.22</td>\n",
       "      <td>265.22</td>\n",
       "      <td>265.22</td>\n",
       "      <td>265.22</td>\n",
       "      <td>0.0</td>\n",
       "      <td>0.0</td>\n",
       "      <td>NaN</td>\n",
       "    </tr>\n",
       "    <tr>\n",
       "      <th>4</th>\n",
       "      <td>5078</td>\n",
       "      <td>5</td>\n",
       "      <td>2001-09-17</td>\n",
       "      <td>NEPSE</td>\n",
       "      <td>273.01</td>\n",
       "      <td>273.01</td>\n",
       "      <td>273.01</td>\n",
       "      <td>273.01</td>\n",
       "      <td>0.0</td>\n",
       "      <td>0.0</td>\n",
       "      <td>NaN</td>\n",
       "    </tr>\n",
       "  </tbody>\n",
       "</table>\n",
       "</div>"
      ],
      "text/plain": [
       "   index  id        date symbol    open    high     low   Close  volume  \\\n",
       "0   5082   1  2001-09-11  NEPSE  274.34  274.34  274.34  274.34     0.0   \n",
       "1   5081   2  2001-09-12  NEPSE  269.17  269.17  269.17  269.17     0.0   \n",
       "2   5080   3  2001-09-13  NEPSE  261.37  261.37  261.37  261.37     0.0   \n",
       "3   5079   4  2001-09-14  NEPSE  265.22  265.22  265.22  265.22     0.0   \n",
       "4   5078   5  2001-09-17  NEPSE  273.01  273.01  273.01  273.01     0.0   \n",
       "\n",
       "   amount  adj_close  \n",
       "0     0.0        NaN  \n",
       "1     0.0        NaN  \n",
       "2     0.0        NaN  \n",
       "3     0.0        NaN  \n",
       "4     0.0        NaN  "
      ]
     },
     "execution_count": 87,
     "metadata": {},
     "output_type": "execute_result"
    }
   ],
   "source": [
    "df=df.reset_index()\n",
    "df.head()"
   ]
  },
  {
   "cell_type": "code",
   "execution_count": 88,
   "id": "efabe558",
   "metadata": {},
   "outputs": [
    {
     "data": {
      "text/html": [
       "<div>\n",
       "<style scoped>\n",
       "    .dataframe tbody tr th:only-of-type {\n",
       "        vertical-align: middle;\n",
       "    }\n",
       "\n",
       "    .dataframe tbody tr th {\n",
       "        vertical-align: top;\n",
       "    }\n",
       "\n",
       "    .dataframe thead th {\n",
       "        text-align: right;\n",
       "    }\n",
       "</style>\n",
       "<table border=\"1\" class=\"dataframe\">\n",
       "  <thead>\n",
       "    <tr style=\"text-align: right;\">\n",
       "      <th></th>\n",
       "      <th>index</th>\n",
       "      <th>id</th>\n",
       "      <th>open</th>\n",
       "      <th>high</th>\n",
       "      <th>low</th>\n",
       "      <th>Close</th>\n",
       "      <th>volume</th>\n",
       "      <th>amount</th>\n",
       "      <th>adj_close</th>\n",
       "    </tr>\n",
       "  </thead>\n",
       "  <tbody>\n",
       "    <tr>\n",
       "      <th>0</th>\n",
       "      <td>5082</td>\n",
       "      <td>1</td>\n",
       "      <td>274.34</td>\n",
       "      <td>274.34</td>\n",
       "      <td>274.34</td>\n",
       "      <td>274.34</td>\n",
       "      <td>0.0</td>\n",
       "      <td>0.0</td>\n",
       "      <td>NaN</td>\n",
       "    </tr>\n",
       "    <tr>\n",
       "      <th>1</th>\n",
       "      <td>5081</td>\n",
       "      <td>2</td>\n",
       "      <td>269.17</td>\n",
       "      <td>269.17</td>\n",
       "      <td>269.17</td>\n",
       "      <td>269.17</td>\n",
       "      <td>0.0</td>\n",
       "      <td>0.0</td>\n",
       "      <td>NaN</td>\n",
       "    </tr>\n",
       "    <tr>\n",
       "      <th>2</th>\n",
       "      <td>5080</td>\n",
       "      <td>3</td>\n",
       "      <td>261.37</td>\n",
       "      <td>261.37</td>\n",
       "      <td>261.37</td>\n",
       "      <td>261.37</td>\n",
       "      <td>0.0</td>\n",
       "      <td>0.0</td>\n",
       "      <td>NaN</td>\n",
       "    </tr>\n",
       "    <tr>\n",
       "      <th>3</th>\n",
       "      <td>5079</td>\n",
       "      <td>4</td>\n",
       "      <td>265.22</td>\n",
       "      <td>265.22</td>\n",
       "      <td>265.22</td>\n",
       "      <td>265.22</td>\n",
       "      <td>0.0</td>\n",
       "      <td>0.0</td>\n",
       "      <td>NaN</td>\n",
       "    </tr>\n",
       "    <tr>\n",
       "      <th>4</th>\n",
       "      <td>5078</td>\n",
       "      <td>5</td>\n",
       "      <td>273.01</td>\n",
       "      <td>273.01</td>\n",
       "      <td>273.01</td>\n",
       "      <td>273.01</td>\n",
       "      <td>0.0</td>\n",
       "      <td>0.0</td>\n",
       "      <td>NaN</td>\n",
       "    </tr>\n",
       "  </tbody>\n",
       "</table>\n",
       "</div>"
      ],
      "text/plain": [
       "   index  id    open    high     low   Close  volume  amount  adj_close\n",
       "0   5082   1  274.34  274.34  274.34  274.34     0.0     0.0        NaN\n",
       "1   5081   2  269.17  269.17  269.17  269.17     0.0     0.0        NaN\n",
       "2   5080   3  261.37  261.37  261.37  261.37     0.0     0.0        NaN\n",
       "3   5079   4  265.22  265.22  265.22  265.22     0.0     0.0        NaN\n",
       "4   5078   5  273.01  273.01  273.01  273.01     0.0     0.0        NaN"
      ]
     },
     "execution_count": 88,
     "metadata": {},
     "output_type": "execute_result"
    }
   ],
   "source": [
    "df=df.drop(['date','symbol'],axis=1)\n",
    "df.head()"
   ]
  },
  {
   "cell_type": "code",
   "execution_count": 89,
   "id": "91cc21f0",
   "metadata": {},
   "outputs": [],
   "source": [
    "df_filled = df.fillna(df.mean())"
   ]
  },
  {
   "cell_type": "code",
   "execution_count": 90,
   "id": "75df48c3",
   "metadata": {},
   "outputs": [],
   "source": [
    "df = df_filled"
   ]
  },
  {
   "cell_type": "code",
   "execution_count": 91,
   "id": "a723fa22",
   "metadata": {},
   "outputs": [
    {
     "data": {
      "text/plain": [
       "False"
      ]
     },
     "execution_count": 91,
     "metadata": {},
     "output_type": "execute_result"
    }
   ],
   "source": [
    "df.isnull().values.any()"
   ]
  },
  {
   "cell_type": "code",
   "execution_count": 92,
   "id": "cbbc46bd",
   "metadata": {},
   "outputs": [
    {
     "name": "stdout",
     "output_type": "stream",
     "text": [
      "No null values present after cleaning.\n"
     ]
    }
   ],
   "source": [
    "if df_cleaned.isnull().values.any():\n",
    "    print(\"Null values still present after cleaning.\")\n",
    "else:\n",
    "    print(\"No null values present after cleaning.\")"
   ]
  },
  {
   "cell_type": "code",
   "execution_count": 93,
   "id": "c58e6512",
   "metadata": {},
   "outputs": [
    {
     "data": {
      "image/png": "[encoded data removed]",
      "text/plain": [
       "<Figure size 1600x800 with 1 Axes>"
      ]
     },
     "metadata": {},
     "output_type": "display_data"
    }
   ],
   "source": [
    "plt.figure(figsize=(16,8))\n",
    "plt.title('Close price history')\n",
    "plt.plot(df['Close'])\n",
    "plt.xlabel('Date', fontsize=18)\n",
    "plt.ylabel('Close price in NRS', fontsize=18)\n",
    "plt.show()\n"
   ]
  },
  {
   "cell_type": "code",
   "execution_count": 94,
   "id": "819a93c8",
   "metadata": {},
   "outputs": [
    {
     "data": {
      "text/plain": [
       "array([[ 274.34],\n",
       "       [ 269.17],\n",
       "       [ 261.37],\n",
       "       ...,\n",
       "       [2000.77],\n",
       "       [1972.09],\n",
       "       [1960.3 ]])"
      ]
     },
     "execution_count": 94,
     "metadata": {},
     "output_type": "execute_result"
    }
   ],
   "source": [
    "data = df.filter(['Close']) #taking close value only\n",
    "\n",
    "dataset = data.values # convert to numpy array\n",
    "\n",
    "training_data_length = math.ceil(len(dataset) * 0.8) #80% data taken for training\n",
    "dataset\n"
   ]
  },
  {
   "cell_type": "code",
   "execution_count": 95,
   "id": "13f4717f",
   "metadata": {},
   "outputs": [
    {
     "data": {
      "text/plain": [
       "array([[0.0292566 ],\n",
       "       [0.02754011],\n",
       "       [0.02495045],\n",
       "       ...,\n",
       "       [0.60244624],\n",
       "       [0.59292423],\n",
       "       [0.58900985]])"
      ]
     },
     "execution_count": 95,
     "metadata": {},
     "output_type": "execute_result"
    }
   ],
   "source": [
    "scaler = MinMaxScaler(feature_range=(0,1))  #Scale data into 0-1\n",
    "scaled_data = scaler.fit_transform(dataset)\n",
    "scaled_data"
   ]
  },
  {
   "cell_type": "code",
   "execution_count": 96,
   "id": "1cd4a96d",
   "metadata": {},
   "outputs": [],
   "source": [
    "\n",
    "# create training data set\n",
    "train_data = scaled_data[:training_data_length, :]\n",
    "x_train = [] #independent training variabls\n",
    "y_train = [] #dependent training variables\n",
    "\n",
    "for i in range(60, len(train_data)):\n",
    "  x_train.append(train_data[i-60:i, 0])\n",
    "  y_train.append(train_data[i, 0])\n",
    "\n",
    "#x_train contains 60 values which are used to train the 61th value\n",
    "#   which is stored in y_train variable\n",
    "     "
   ]
  },
  {
   "cell_type": "markdown",
   "id": "57a971f9",
   "metadata": {},
   "source": [
    "#After this loop, x_train will contain sequences of 60 data points each, and y_train will contain the corresponding next data point that the model needs to predict. This way, you create a supervised learning dataset suitable for training an LSTM model for time series forecasting"
   ]
  },
  {
   "cell_type": "code",
   "execution_count": 97,
   "id": "8b075434",
   "metadata": {},
   "outputs": [],
   "source": [
    "#convert x_train and y_train to numpy arrays\n",
    "x_train = np.array(x_train)\n",
    "y_train = np.array(y_train)"
   ]
  },
  {
   "cell_type": "code",
   "execution_count": 98,
   "id": "f6b078ef",
   "metadata": {},
   "outputs": [
    {
     "data": {
      "text/plain": [
       "(4007, 60)"
      ]
     },
     "execution_count": 98,
     "metadata": {},
     "output_type": "execute_result"
    }
   ],
   "source": [
    "x_train.shape\n"
   ]
  },
  {
   "cell_type": "code",
   "execution_count": 99,
   "id": "3b3784f0",
   "metadata": {},
   "outputs": [
    {
     "data": {
      "text/plain": [
       "(4007,)"
      ]
     },
     "execution_count": 99,
     "metadata": {},
     "output_type": "execute_result"
    }
   ],
   "source": [
    "y_train.shape"
   ]
  },
  {
   "cell_type": "code",
   "execution_count": 100,
   "id": "a921860a",
   "metadata": {},
   "outputs": [
    {
     "data": {
      "text/plain": [
       "array([[[0.0292566 ],\n",
       "        [0.02754011],\n",
       "        [0.02495045],\n",
       "        ...,\n",
       "        [0.03262317],\n",
       "        [0.03224136],\n",
       "        [0.0323808 ]],\n",
       "\n",
       "       [[0.02754011],\n",
       "        [0.02495045],\n",
       "        [0.02622868],\n",
       "        ...,\n",
       "        [0.03224136],\n",
       "        [0.0323808 ],\n",
       "        [0.03206539]],\n",
       "\n",
       "       [[0.02495045],\n",
       "        [0.02622868],\n",
       "        [0.02881503],\n",
       "        ...,\n",
       "        [0.0323808 ],\n",
       "        [0.03206539],\n",
       "        [0.03134161]],\n",
       "\n",
       "       ...,\n",
       "\n",
       "       [[0.37439284],\n",
       "        [0.37624877],\n",
       "        [0.37167037],\n",
       "        ...,\n",
       "        [0.34110898],\n",
       "        [0.34124842],\n",
       "        [0.34091973]],\n",
       "\n",
       "       [[0.37624877],\n",
       "        [0.37167037],\n",
       "        [0.36740738],\n",
       "        ...,\n",
       "        [0.34124842],\n",
       "        [0.34091973],\n",
       "        [0.33977762]],\n",
       "\n",
       "       [[0.37167037],\n",
       "        [0.36740738],\n",
       "        [0.36622543],\n",
       "        ...,\n",
       "        [0.34091973],\n",
       "        [0.33977762],\n",
       "        [0.33762288]]])"
      ]
     },
     "execution_count": 100,
     "metadata": {},
     "output_type": "execute_result"
    }
   ],
   "source": [
    "#Reshape the data as LSTM expects input to be 3D but our current dataset is 2D\n",
    "x_train = np.reshape(x_train, (x_train.shape[0], x_train.shape[1], 1))\n",
    "x_train"
   ]
  },
  {
   "cell_type": "code",
   "execution_count": 101,
   "id": "1eee5615",
   "metadata": {},
   "outputs": [],
   "source": [
    "# Now we will build the LSTM model\n",
    "\n",
    "model = Sequential()\n",
    "model.add(LSTM(50, return_sequences=True, input_shape=(x_train.shape[1],1)))  #first layer \n",
    "model.add(LSTM(50, return_sequences=False))   #second layer\n",
    "model.add(Dense(25))   #this line adds a fully connected dense layer with 25 neurons.\n",
    "model.add(Dense(1))   #output\n"
   ]
  },
  {
   "cell_type": "markdown",
   "id": "b7859969",
   "metadata": {},
   "source": []
  },
  {
   "cell_type": "markdown",
   "id": "933309bc",
   "metadata": {},
   "source": [
    "Dense layers are traditional feedforward neural network layers, where each neuron is connected to every neuron in the previous layer."
   ]
  },
  {
   "cell_type": "code",
   "execution_count": 102,
   "id": "d72ae460",
   "metadata": {},
   "outputs": [],
   "source": [
    "#Compile the model\n",
    "model.compile(optimizer='adam', loss='mean_squared_error')"
   ]
  },
  {
   "cell_type": "code",
   "execution_count": 103,
   "id": "2e3de302",
   "metadata": {},
   "outputs": [],
   "source": [
    "early_stopping = EarlyStopping(monitor='loss', patience=5, restore_best_weights=True)"
   ]
  },
  {
   "cell_type": "code",
   "execution_count": 104,
   "id": "5afc86b2",
   "metadata": {},
   "outputs": [
    {
     "name": "stdout",
     "output_type": "stream",
     "text": [
      "Epoch 1/5\n",
      "4007/4007 [==============================] - 89s 21ms/step - loss: 2.8403e-04\n",
      "Epoch 2/5\n",
      "4007/4007 [==============================] - 85s 21ms/step - loss: 1.2085e-04\n",
      "Epoch 3/5\n",
      "4007/4007 [==============================] - 85s 21ms/step - loss: 8.7604e-05\n",
      "Epoch 4/5\n",
      "4007/4007 [==============================] - 85s 21ms/step - loss: 5.8441e-05\n",
      "Epoch 5/5\n",
      "4007/4007 [==============================] - 85s 21ms/step - loss: 5.2262e-05\n"
     ]
    },
    {
     "data": {
      "text/plain": [
       "<keras.callbacks.History at 0x1d0e95a5f60>"
      ]
     },
     "execution_count": 104,
     "metadata": {},
     "output_type": "execute_result"
    }
   ],
   "source": [
    "# Train the model\n",
    "model.fit(x_train, y_train, batch_size=1, epochs=5,callbacks=[early_stopping])"
   ]
  },
  {
   "cell_type": "code",
   "execution_count": 105,
   "id": "6c40049a",
   "metadata": {},
   "outputs": [
    {
     "name": "stdout",
     "output_type": "stream",
     "text": [
      "Model: \"sequential_1\"\n",
      "_________________________________________________________________\n",
      " Layer (type)                Output Shape              Param #   \n",
      "=================================================================\n",
      " lstm_2 (LSTM)               (None, 60, 50)            10400     \n",
      "                                                                 \n",
      " lstm_3 (LSTM)               (None, 50)                20200     \n",
      "                                                                 \n",
      " dense_2 (Dense)             (None, 25)                1275      \n",
      "                                                                 \n",
      " dense_3 (Dense)             (None, 1)                 26        \n",
      "                                                                 \n",
      "=================================================================\n",
      "Total params: 31,901\n",
      "Trainable params: 31,901\n",
      "Non-trainable params: 0\n",
      "_________________________________________________________________\n"
     ]
    }
   ],
   "source": [
    "model.summary()"
   ]
  },
  {
   "cell_type": "code",
   "execution_count": 106,
   "id": "a0dc259a",
   "metadata": {},
   "outputs": [
    {
     "data": {
      "text/plain": [
       "<matplotlib.legend.Legend at 0x1d0e9cc1ff0>"
      ]
     },
     "execution_count": 106,
     "metadata": {},
     "output_type": "execute_result"
    },
    {
     "data": {
      "image/png": "[encoded data removed]",
      "text/plain": [
       "<Figure size 1200x600 with 1 Axes>"
      ]
     },
     "metadata": {},
     "output_type": "display_data"
    }
   ],
   "source": [
    "#plotting moving averages with actual data\n",
    "ma100=df.Close.rolling(100).mean()\n",
    "ma200=df.Close.rolling(200).mean()\n",
    "plt.figure(figsize=(12,6))\n",
    "plt.plot(df.Close)\n",
    "plt.plot(ma100,'r')\n",
    "plt.plot(ma200,'g')\n",
    "plt.legend(['Actual Data', 'ma100', 'ma200'], loc = 'lower right')"
   ]
  },
  {
   "cell_type": "code",
   "execution_count": 107,
   "id": "a67db256",
   "metadata": {},
   "outputs": [],
   "source": [
    "model.save('keras_model_Nepse.h5')"
   ]
  },
  {
   "cell_type": "code",
   "execution_count": 108,
   "id": "d4d80a95",
   "metadata": {},
   "outputs": [
    {
     "data": {
      "text/plain": [
       "(1076, 1)"
      ]
     },
     "execution_count": 108,
     "metadata": {},
     "output_type": "execute_result"
    }
   ],
   "source": [
    "# Create the testing data set\n",
    "#Taking data from index training datalength - 60 to last data for testing\n",
    "test_data = scaled_data[training_data_length - 60:, :]  \n",
    "\n",
    "test_data.shape"
   ]
  },
  {
   "cell_type": "code",
   "execution_count": 109,
   "id": "615892bd",
   "metadata": {},
   "outputs": [],
   "source": [
    "x_test = []\n",
    "y_test = dataset[training_data_length: , :]  #contains data after last training data to end of data\n",
    "\n",
    "for i in range(60, len(test_data)):\n",
    "  x_test.append(test_data[i - 60: i, 0])\n",
    "     "
   ]
  },
  {
   "cell_type": "code",
   "execution_count": 110,
   "id": "80c22a1f",
   "metadata": {},
   "outputs": [],
   "source": [
    "#Convert the data to a numpy array\n",
    "x_test = np.array(x_test)"
   ]
  },
  {
   "cell_type": "code",
   "execution_count": 111,
   "id": "537bd839",
   "metadata": {},
   "outputs": [],
   "source": [
    "# Reshape again to make it 3D\n",
    "x_test = np.reshape(x_test, (x_test.shape[0], x_test.shape[1], 1))"
   ]
  },
  {
   "cell_type": "code",
   "execution_count": 112,
   "id": "f66c9a02",
   "metadata": {},
   "outputs": [
    {
     "data": {
      "text/plain": [
       "(1016, 60, 1)"
      ]
     },
     "execution_count": 112,
     "metadata": {},
     "output_type": "execute_result"
    }
   ],
   "source": [
    "x_test.shape"
   ]
  },
  {
   "cell_type": "code",
   "execution_count": 113,
   "id": "03afe9c2",
   "metadata": {},
   "outputs": [
    {
     "data": {
      "text/plain": [
       "(1016, 1)"
      ]
     },
     "execution_count": 113,
     "metadata": {},
     "output_type": "execute_result"
    }
   ],
   "source": [
    "y_test.shape"
   ]
  },
  {
   "cell_type": "code",
   "execution_count": 114,
   "id": "bbdbe39c",
   "metadata": {},
   "outputs": [
    {
     "name": "stdout",
     "output_type": "stream",
     "text": [
      "32/32 [==============================] - 1s 17ms/step\n"
     ]
    },
    {
     "data": {
      "text/plain": [
       "(1016, 1)"
      ]
     },
     "execution_count": 114,
     "metadata": {},
     "output_type": "execute_result"
    }
   ],
   "source": [
    "# Get the models predicted price values\n",
    "predictions = model.predict(x_test)\n",
    "predictions = scaler.inverse_transform(predictions) #unscaling values\n",
    "predictions.shape"
   ]
  },
  {
   "cell_type": "code",
   "execution_count": 115,
   "id": "8e7e03d3",
   "metadata": {},
   "outputs": [
    {
     "data": {
      "text/plain": [
       "array([[1209.3153],\n",
       "       [1196.1252],\n",
       "       [1196.8269],\n",
       "       ...,\n",
       "       [1989.4636],\n",
       "       [1984.4797],\n",
       "       [1948.7263]], dtype=float32)"
      ]
     },
     "execution_count": 115,
     "metadata": {},
     "output_type": "execute_result"
    }
   ],
   "source": [
    "predictions"
   ]
  },
  {
   "cell_type": "code",
   "execution_count": 116,
   "id": "34dc6f39",
   "metadata": {},
   "outputs": [
    {
     "data": {
      "text/plain": [
       "23.500794380536416"
      ]
     },
     "execution_count": 116,
     "metadata": {},
     "output_type": "execute_result"
    }
   ],
   "source": [
    "# Get the root mean squared error (RMSE)\n",
    "rmse = np.sqrt(np.mean(predictions - y_test) ** 2)\n",
    "rmse "
   ]
  },
  {
   "cell_type": "code",
   "execution_count": 118,
   "id": "1b8d0a82",
   "metadata": {},
   "outputs": [
    {
     "name": "stderr",
     "output_type": "stream",
     "text": [
      "C:\\Users\\ASUS\\AppData\\Local\\Temp\\ipykernel_29380\\1297236671.py:4: SettingWithCopyWarning: \n",
      "A value is trying to be set on a copy of a slice from a DataFrame.\n",
      "Try using .loc[row_indexer,col_indexer] = value instead\n",
      "\n",
      "See the caveats in the documentation: https://pandas.pydata.org/pandas-docs/stable/user_guide/indexing.html#returning-a-view-versus-a-copy\n",
      "  actual_val['Predictions'] = predictions\n"
     ]
    },
    {
     "data": {
      "text/plain": [
       "<matplotlib.legend.Legend at 0x1d0db5bdba0>"
      ]
     },
     "execution_count": 118,
     "metadata": {},
     "output_type": "execute_result"
    },
    {
     "data": {
      "image/png": "[encoded data removed]",
      "text/plain": [
       "<Figure size 1600x800 with 1 Axes>"
      ]
     },
     "metadata": {},
     "output_type": "display_data"
    }
   ],
   "source": [
    "\n",
    "# Plot the data\n",
    "train = data[:training_data_length]\n",
    "actual_val = data[training_data_length:]\n",
    "actual_val['Predictions'] = predictions\n",
    "\n",
    "plt.figure(figsize=(16,8))\n",
    "plt.title('Model')\n",
    "plt.xlabel('Date', fontsize=18)\n",
    "plt.ylabel('Close Price NRS', fontsize=18)\n",
    "plt.plot(train['Close'])\n",
    "plt.plot(actual_val[['Close', 'Predictions']])\n",
    "plt.legend(['Training Data', 'Actual Value', 'Predicted Value'], loc = 'lower right')"
   ]
  },
  {
   "cell_type": "code",
   "execution_count": 119,
   "id": "ddbac308",
   "metadata": {},
   "outputs": [
    {
     "data": {
      "text/html": [
       "<div>\n",
       "<style scoped>\n",
       "    .dataframe tbody tr th:only-of-type {\n",
       "        vertical-align: middle;\n",
       "    }\n",
       "\n",
       "    .dataframe tbody tr th {\n",
       "        vertical-align: top;\n",
       "    }\n",
       "\n",
       "    .dataframe thead th {\n",
       "        text-align: right;\n",
       "    }\n",
       "</style>\n",
       "<table border=\"1\" class=\"dataframe\">\n",
       "  <thead>\n",
       "    <tr style=\"text-align: right;\">\n",
       "      <th></th>\n",
       "      <th>Close</th>\n",
       "      <th>Predictions</th>\n",
       "    </tr>\n",
       "  </thead>\n",
       "  <tbody>\n",
       "    <tr>\n",
       "      <th>4067</th>\n",
       "      <td>1197.75</td>\n",
       "      <td>1209.315308</td>\n",
       "    </tr>\n",
       "    <tr>\n",
       "      <th>4068</th>\n",
       "      <td>1196.41</td>\n",
       "      <td>1196.125244</td>\n",
       "    </tr>\n",
       "    <tr>\n",
       "      <th>4069</th>\n",
       "      <td>1184.78</td>\n",
       "      <td>1196.826904</td>\n",
       "    </tr>\n",
       "    <tr>\n",
       "      <th>4070</th>\n",
       "      <td>1170.34</td>\n",
       "      <td>1183.536743</td>\n",
       "    </tr>\n",
       "    <tr>\n",
       "      <th>4071</th>\n",
       "      <td>1190.90</td>\n",
       "      <td>1169.363647</td>\n",
       "    </tr>\n",
       "    <tr>\n",
       "      <th>...</th>\n",
       "      <td>...</td>\n",
       "      <td>...</td>\n",
       "    </tr>\n",
       "    <tr>\n",
       "      <th>5078</th>\n",
       "      <td>1992.30</td>\n",
       "      <td>1958.061523</td>\n",
       "    </tr>\n",
       "    <tr>\n",
       "      <th>5079</th>\n",
       "      <td>2001.64</td>\n",
       "      <td>1984.128052</td>\n",
       "    </tr>\n",
       "    <tr>\n",
       "      <th>5080</th>\n",
       "      <td>2000.77</td>\n",
       "      <td>1989.463623</td>\n",
       "    </tr>\n",
       "    <tr>\n",
       "      <th>5081</th>\n",
       "      <td>1972.09</td>\n",
       "      <td>1984.479736</td>\n",
       "    </tr>\n",
       "    <tr>\n",
       "      <th>5082</th>\n",
       "      <td>1960.30</td>\n",
       "      <td>1948.726318</td>\n",
       "    </tr>\n",
       "  </tbody>\n",
       "</table>\n",
       "<p>1016 rows × 2 columns</p>\n",
       "</div>"
      ],
      "text/plain": [
       "        Close  Predictions\n",
       "4067  1197.75  1209.315308\n",
       "4068  1196.41  1196.125244\n",
       "4069  1184.78  1196.826904\n",
       "4070  1170.34  1183.536743\n",
       "4071  1190.90  1169.363647\n",
       "...       ...          ...\n",
       "5078  1992.30  1958.061523\n",
       "5079  2001.64  1984.128052\n",
       "5080  2000.77  1989.463623\n",
       "5081  1972.09  1984.479736\n",
       "5082  1960.30  1948.726318\n",
       "\n",
       "[1016 rows x 2 columns]"
      ]
     },
     "execution_count": 119,
     "metadata": {},
     "output_type": "execute_result"
    }
   ],
   "source": [
    "# Show the valid and predicted prices\n",
    "actual_val"
   ]
  },
  {
   "cell_type": "code",
   "execution_count": 124,
   "id": "7398cec8",
   "metadata": {},
   "outputs": [
    {
     "name": "stdout",
     "output_type": "stream",
     "text": [
      "1/1 [==============================] - 0s 27ms/step\n",
      "the predicted price for the Stock for Coming Day is\n",
      " [[1944.8027]]\n",
      "1/1 [==============================] - 0s 23ms/step\n",
      "1/1 [==============================] - 0s 28ms/step\n",
      "1/1 [==============================] - 0s 33ms/step\n",
      "1/1 [==============================] - 0s 34ms/step\n",
      "1/1 [==============================] - 0s 84ms/step\n",
      "1/1 [==============================] - 0s 29ms/step\n",
      "1/1 [==============================] - 0s 32ms/step\n",
      "\n",
      "The predicted prices for the stock for the next 7 days are:\n",
      "Day 1: 1944.802734375\n",
      "Day 2: 1928.59326171875\n",
      "Day 3: 1912.7589111328125\n",
      "Day 4: 1897.6893310546875\n",
      "Day 5: 1883.325439453125\n",
      "Day 6: 1869.56103515625\n",
      "Day 7: 1856.324951171875\n"
     ]
    }
   ],
   "source": [
    "\n",
    "# Get the quote\n",
    "df1 = pd.read_csv(\"nepse.csv\")\n",
    "df_stock = df1[::-1]\n",
    "new_df = df_stock.filter(['close'])\n",
    "\n",
    "last_60_days = new_df[-60:].values   #taking value of last 60 days\n",
    "last_60_days_scaled = scaler.transform(last_60_days)\n",
    "\n",
    "X_test = []\n",
    "X_test.append(last_60_days_scaled)\n",
    "\n",
    "X_test = np.array(X_test) #convert to np array\n",
    "\n",
    "X_test = np.reshape(X_test, (X_test.shape[0], X_test.shape[1], 1)) # shaping to 3D for LSTM model\n",
    "\n",
    "pred_scale_price = model.predict(X_test)    #predicting the price for next day\n",
    "\n",
    "pred_price = scaler.inverse_transform(pred_scale_price)  ##inversing the scaled value to actual value\n",
    "\n",
    "print(\"the predicted price for the Stock for Coming Day is\\n\",pred_price)\n",
    "\n",
    "# Predict prices for the next 30 days\n",
    "pred_prices = []\n",
    "for i in range(7):\n",
    "    pred_scale_price = model.predict(X_test)    #predicting the price for next day\n",
    "    pred_price = scaler.inverse_transform(pred_scale_price)  ##inversing the scaled value to actual value\n",
    "    pred_prices.append(pred_price[0][0])  # Append the predicted price to the list\n",
    "    # Shift the data by one day and append the newly predicted price\n",
    "    X_test = np.append(X_test[:,1:,:], pred_scale_price.reshape((1,1,1)), axis=1)\n",
    "\n",
    "print(\"\\nThe predicted prices for the stock for the next 7 days are:\")\n",
    "for day, price in enumerate(pred_prices, start=1):\n",
    "    print(f\"Day {day}: {price}\")"
   ]
  }
 ],
 "metadata": {
  "kernelspec": {
   "display_name": "Python 3 (ipykernel)",
   "language": "python",
   "name": "python3"
  },
  "language_info": {
   "codemirror_mode": {
    "name": "ipython",
    "version": 3
   },
   "file_extension": ".py",
   "mimetype": "text/x-python",
   "name": "python",
   "nbconvert_exporter": "python",
   "pygments_lexer": "ipython3",
   "version": "3.10.9"
  }
 },
 "nbformat": 4,
 "nbformat_minor": 5
}
